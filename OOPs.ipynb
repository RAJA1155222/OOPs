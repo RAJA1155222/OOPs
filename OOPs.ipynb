{
  "nbformat": 4,
  "nbformat_minor": 0,
  "metadata": {
    "colab": {
      "provenance": []
    },
    "kernelspec": {
      "name": "python3",
      "display_name": "Python 3"
    },
    "language_info": {
      "name": "python"
    }
  },
  "cells": [
    {
      "cell_type": "markdown",
      "source": [
        "#OOPs\n"
      ],
      "metadata": {
        "id": "ADtQBwpU9ykt"
      }
    },
    {
      "cell_type": "code",
      "execution_count": null,
      "metadata": {
        "id": "GuFVTA8X9tYF"
      },
      "outputs": [],
      "source": []
    },
    {
      "cell_type": "markdown",
      "source": [
        "#1. What is Object-Oriented Programming (OOP)?\n",
        "\n",
        "- Object-Oriented Programming (OOP) is a programming paradigm, or style, that is built around the concept of \"objects\". These objects are like containers that hold both data (attributes or properties) and functions (methods) that operate on that data.\n",
        "\n",
        "#Core Concepts of OOP:\n",
        "\n",
        " - Classes and Objects: A class is a blueprint for creating objects. Think of it like a template that defines the structure and behavior of an object. An object is an instance of a class, like a specific car created from a car blueprint.\n",
        "\n",
        "- Abstraction: Hiding complex implementation details and showing only the essential information to the user. It simplifies interactions with objects by providing a clear interface. For example, when you drive a car, you don't need to know how the engine works internally.\n",
        "\n",
        "- Encapsulation: Bundling data and the methods that operate on that data within a single unit (the object). This protects data integrity by controlling access to it. It's like the car's engine being enclosed within the hood, preventing accidental tampering.\n",
        "\n",
        "- Inheritance: Creating new classes (child classes) based on existing classes (parent classes). Child classes inherit properties and methods from their parents, promoting code reuse and reducing redundancy. For example, a \"sports car\" class could inherit from a \"car\" class and add features like a turbocharger.\n",
        "- Polymorphism: The ability of objects to take on multiple forms. This allows objects of different classes to respond to the same method call in their own specific way. It's like pressing the accelerator in different cars – they all accelerate, but the specific behavior might differ.\n",
        "\n",
        "#Benefits of OOP:\n",
        "\n",
        "- Modularity: Code is organized into reusable components (objects), making it easier to manage and maintain.\n",
        "- Flexibility: Objects can be easily extended and modified without affecting other parts of the code.\n",
        "- Reusability: Code can be reused across different projects, saving time and effort.\n",
        "- Data security: Encapsulation protects data from unauthorized access.\n",
        "\n",
        "#2. What is a class in OOP?\n",
        " -\n",
        "\n",
        "In OOP, a class is a blueprint or template for creating objects. It defines the structure and behavior that objects of that class will have.\n",
        "\n",
        "Think of a class as a cookie cutter. The cookie cutter itself isn't a cookie, but it defines the shape and size of the cookies you can create with it. Similarly, a class defines the properties (data) and methods (functions) that objects of that class will have.\n",
        "\n",
        "#Here's a breakdown:\n",
        "\n",
        "- Blueprint: A class acts as a blueprint for creating objects. It specifies the attributes (data) that the objects will have and the methods (functions) that can be performed on those attributes.\n",
        "\n",
        "- Template: It's like a template or a mold that defines the structure of objects. When you create an object from a class, you're essentially creating an instance of that class, which inherits all the properties and methods defined in the class.\n",
        "\n",
        "- Data and Functions: Classes encapsulate both data (attributes) and functions (methods) that operate on that data. This bundling of data and functions is a key principle of OOP known as encapsulation.\n",
        "\n",
        "#3. What is an object in OOP?\n",
        "- In OOP, an object is an instance of a class. It's a concrete realization of the blueprint defined by the class. Objects have attributes (data) and methods (functions) that are defined by their class.\n",
        "\n",
        "Think of it like this: if a class is a blueprint for a house, then an object is an actual house built from that blueprint. Each house (object) will have specific characteristics (attributes) like color, size, and number of rooms, and it will have functionalities (methods) like opening doors, turning on lights, etc.\n",
        "\n",
        "#Key Characteristics of Objects:\n",
        "\n",
        "- State: Objects have a state, which is represented by the values of their attributes. For example, a \"Dog\" object might have a state of name = \"Buddy\" and breed = \"Golden Retriever\".\n",
        "\n",
        "- Behavior: Objects have behavior, which is defined by their methods. Methods are functions that can be called on an object to perform actions or modify its state. For example, the \"Dog\" object might have a bark() method that prints \"Woof!\".\n",
        "\n",
        "- Identity: Each object has a unique identity that distinguishes it from other objects, even if they have the same state. This is like how two houses built from the same blueprint are still different houses.\n",
        "\n",
        "#4. What is the difference between abstraction and encapsulation?\n",
        " -   Difference between abstraction and encapsulation in Object-Oriented Programming (OOP):\n",
        "\n",
        "#Abstraction\n",
        "\n",
        "- Focus: Hiding complex implementation details and showing only the essential information to the user. It simplifies interactions with objects by providing a clear interface.\n",
        "- Analogy: Think of a car's dashboard. It\n",
        "provides you with essential information like speed, fuel level, and temperature, without exposing the complex mechanics of the engine. You interact with the car through the dashboard, without needing to know how the engine works.\n",
        "- Benefit: Abstraction simplifies interactions and reduces complexity for the user.\n",
        "\n",
        "#Encapsulation\n",
        "\n",
        "- Focus: Bundling data (attributes) and the methods (functions) that operate on that data within a single unit (the object). This protects data integrity by controlling access to it.\n",
        "- Analogy: Imagine a capsule containing medicine. The capsule protects the medicine inside, and you interact with it as a single unit. You don't directly access the medicine inside; you swallow the capsule as a whole.\n",
        "- Benefit: Encapsulation protects data integrity and ensures that it's accessed and modified in a controlled manner.\n",
        "#In short:\n",
        "\n",
        "- Abstraction focuses on hiding complexity and simplifying interactions.\n",
        "- Encapsulation focuses on bundling data and methods to protect data integrity.\n",
        "\n",
        "#5. What are dunder methods in Python?\n",
        "  - Dunder Methods\n",
        "\n",
        "Dunder methods, often referred to as \"magic methods\" or \"special methods,\" are a set of predefined methods in Python that have double underscores (dunders) at the beginning and end of their names (e.g., __init__, __str__, __add__). These methods are used to define how objects of a class behave in certain situations, such as initialization, representation, comparison, and arithmetic operations.\n",
        "\n",
        "#Purpose and Functionality\n",
        "\n",
        "Dunder methods provide a way to customize the behavior of your classes and make them interact with built-in Python features and operators. By implementing specific dunder methods, you can define how your objects are created, printed, compared, and used in various operations.\n",
        "\n",
        "#Here are a few examples of common dunder methods:\n",
        "\n",
        " - __init__: This method is called when an object is created and is used to initialize the object's attributes.\n",
        " - __str__: This method is called when you use the str() function on an object or when you print an object. It should return a string representation of the object.\n",
        " - __add__: This method is called when you use the + operator to add two objects. It should define how the objects are added together.\n",
        "- __len__: This method is called when you use the len() function on an object. It should return the length of the object.\n",
        "- __eq__: This method is called when you use the == operator to compare two objects. It should return True if the objects are equal and False otherwise.\n",
        "\n",
        "#Benefits of using Dunder Methods\n",
        "\n",
        " -Operator Overloading: Dunder methods allow you to define how operators like +, -, *, /, ==, <, >, etc., behave with your objects. This is known as operator overloading.\n",
        "- Customization: They provide a way to customize the behavior of your objects in various situations. For example, you can define how your objects are printed, compared, or iterated over.\n",
        "- Integration with Python Features: Dunder methods enable your objects to interact seamlessly with built-in Python features and functionalities. For example, you can make your objects iterable by implementing the __iter__ method.\n",
        "- Readability and Maintainability: Dunder methods provide a clear and standardized way to define special behaviors, making your code more readable and maintainable.\n",
        "\n",
        "#6.Explain the concept of inheritance in OOP?\n",
        "-  Inheritance\n",
        "\n",
        "Inheritance is a fundamental concept in OOP that allows you to create new classes (child classes or subclasses) based on existing classes (parent classes or superclasses). The child class inherits properties (attributes) and methods (functions) from its parent class, promoting code reuse and reducing redundancy.\n",
        "\n",
        "Think of it like a family tree. Children inherit traits from their parents, and in OOP, child classes inherit characteristics from their parent classes.\n",
        "\n",
        "#Key Concepts\n",
        "\n",
        "- Parent Class (Superclass): The class being inherited from. It provides the base structure and functionality.\n",
        "- Child Class (Subclass): The class that inherits from the parent class. It extends or modifies the functionality of the parent class.\n",
        "- Inheritance Hierarchy: A tree-like structure showing the relationships between classes through inheritance.\n",
        "\n",
        "#Benefits of Inheritance\n",
        "\n",
        "- Code Reusability: Avoid writing the same code multiple times by inheriting from existing classes.\n",
        "- Extensibility: Easily add new features to existing classes by creating child classes.\n",
        "- Maintainability: Changes made to the parent class automatically propagate to child classes, making it easier to maintain the codebase.\n",
        "- Polymorphism: Allows objects of different classes to be treated as objects of a common parent class, promoting flexibility.\n",
        "\n",
        "#Example"
      ],
      "metadata": {
        "id": "weSm0uiJ94vq"
      }
    },
    {
      "cell_type": "code",
      "source": [
        "class Animal:  # Parent class\n",
        "    def __init__(self, name):\n",
        "        self.name = name\n",
        "\n",
        "    def speak(self):\n",
        "        print(\"Generic animal sound\")\n",
        "\n",
        "class Dog(Animal):  # Child class inheriting from Animal\n",
        "    def speak(self):\n",
        "        print(\"Woof!\")\n",
        "\n",
        "class Cat(Animal):  # Child class inheriting from Animal\n",
        "    def speak(self):\n",
        "        print(\"Meow!\")\n",
        "\n",
        "# Create objects\n",
        "animal = Animal(\"Generic Animal\")\n",
        "dog = Dog(\"Buddy\")\n",
        "cat = Cat(\"Whiskers\")\n",
        "\n",
        "# Call the speak method\n",
        "animal.speak()  # Output: Generic animal sound\n",
        "dog.speak()  # Output: Woof!\n",
        "cat.speak()  # Output: Meow!"
      ],
      "metadata": {
        "colab": {
          "base_uri": "https://localhost:8080/"
        },
        "id": "xNwF3JLIEIuX",
        "outputId": "94a7fd4c-a97e-4f4d-c463-b6765129334a"
      },
      "execution_count": 1,
      "outputs": [
        {
          "output_type": "stream",
          "name": "stdout",
          "text": [
            "Generic animal sound\n",
            "Woof!\n",
            "Meow!\n"
          ]
        }
      ]
    },
    {
      "cell_type": "markdown",
      "source": [
        "In this example:\n",
        "\n",
        "- Animal is the parent class, defining common animal attributes and the speak() method.\n",
        "- Dog and Cat are child classes inheriting from Animal.\n",
        "- They override the speak() method to provide specific sounds.\n",
        "#Types of Inheritance\n",
        "\n",
        "- Single Inheritance: A class inherits from only one parent class.\n",
        "- Multiple Inheritance: A class inherits from multiple parent classes (supported in Python).\n",
        "- Multilevel Inheritance: A class inherits from a child class, which in turn inherits from another parent class.\n",
        "\n",
        "#7. What is polymorphism in OOP?\n",
        "-  Polymorphism\n",
        "\n",
        "Polymorphism, meaning \"many forms,\" is a concept in OOP that allows objects of different classes to be treated as objects of a common type. It enables you to write code that can work with objects of various classes without needing to know their specific types.\n",
        "\n",
        "#Key Idea\n",
        "\n",
        "The core idea behind polymorphism is that you can call the same method on objects of different classes, and each object will respond to the method call in its own specific way. This provides flexibility and allows you to write more generic and reusable code.\n",
        "\n",
        "#Benefits of Polymorphism\n",
        "\n",
        "- Flexibility: Write code that can work with objects of different classes without modification.\n",
        "- Code Reusability: Reduce code duplication by using common interfaces and methods.\n",
        "- Extensibility: Easily add new classes and integrate them into existing code without breaking existing functionality.\n",
        "- Maintainability: Make code easier to understand and maintain by reducing complexity.\n",
        "#Types of Polymorphism\n",
        "\n",
        "- Runtime Polymorphism (Method Overriding): Achieved through inheritance and method overriding, as shown in the example above.\n",
        "- Compile-time Polymorphism (Method Overloading): Achieved by having multiple methods with the same name but different parameters (not directly supported in Python but can be simulated).\n",
        "\n",
        "#8. How is encapsulation achieved in Python?\n",
        "-   Encapsulation in Python\n",
        "\n",
        "Encapsulation in Python is achieved using private and protected members. It focuses on bundling data (attributes) and the methods (functions) that operate on that data within a single unit (the object). This protects data integrity by controlling access to it.\n",
        "\n",
        "1. Private Members:\n",
        "\n",
        "Members declared with a double underscore prefix (__) are considered private.\n",
        "They are not directly accessible from outside the class but can be accessed within the class.\n",
        "This restricts direct modification of data from external sources.\n",
        "\n",
        "2. Protected Members:\n",
        "\n",
        "Members declared with a single underscore prefix (_) are considered protected.\n",
        "They are accessible from outside the class but are intended for internal use within the class or its subclasses.\n",
        "This is more of a convention and does not enforce strict access restrictions like private members.\n",
        "\n",
        "#Benefits of Encapsulation:\n",
        "\n",
        "- Data Integrity: Prevents accidental or unauthorized modification of data.\n",
        "- Modularity: Improves code organization and reusability.\n",
        "- Flexibility: Allows for changes in internal implementation without affecting external code.\n",
        "\n",
        "#9.What is a constructor in Python?\n",
        " - Constructor in Python\n",
        "\n",
        "In Python, a constructor is a special method named __init__ that is automatically called when an object of a class is created. It is used to initialize the object's attributes with default or user-defined values.\n",
        "\n",
        "#Purpose\n",
        "\n",
        "- Initialization: The primary purpose of a constructor is to initialize the attributes (data members) of an object when it is created.\n",
        "- Object Creation: Constructors are automatically executed when an object of a class is instantiated.\n",
        "\n",
        "#Key Points\n",
        "\n",
        "- Constructors are essential for setting up the initial state of an object.\n",
        "- They are automatically called when an object is created.\n",
        "- They can take parameters to customize the object's initialization.\n",
        "- They are defined using the __init__ method within a class.\n",
        "\n",
        "#10. What are class and static methods in Python?\n",
        "-  Class Methods\n",
        "\n",
        "- Class methods are methods that are bound to the class and not the instance of the class (object).\n",
        "- They are defined using the @classmethod decorator.\n",
        "- They can access and modify class-level variables.\n",
        "- They take the class itself (cls) as the first argument instead of the instance (self).\n",
        "\n",
        "#Static Methods\n",
        "\n",
        "- Static methods are methods that are bound to the class and not the instance of the class (object).\n",
        "- They are defined using the @staticmethod decorator.\n",
        "- They cannot access or modify class-level or instance-level variables directly.\n",
        "- They are typically used for utility functions that don't need access to class data.\n",
        "\n",
        "#11.What is method overloading in Python?\n",
        "-  Method Overloading\n",
        "\n",
        "Method overloading is a concept in programming where you can define multiple methods with the same name but with different parameters (number or types of parameters). This allows you to provide different implementations of the same method based on the arguments passed to it.\n",
        "\n",
        "#Python's Approach\n",
        "\n",
        "Python does not support traditional method overloading like some other languages (e.g., Java, C++). In Python, if you define multiple methods with the same name, the latest definition will override the previous ones. However, you can achieve similar functionality using techniques like:\n",
        "\n",
        "- Default Arguments: You can provide default values for parameters in a method. This allows you to call the method with different numbers of arguments.\n",
        "-  Variable-Length Arguments: You can use *args and **kwargs to accept a variable number of positional and keyword arguments, respectively.\n",
        "\n",
        "- Function Dispatching: You can use conditional statements within a method to execute different logic based on the types or values of the arguments.\n",
        "\n",
        "#Why Python Doesn't Support Traditional Overloading\n",
        "\n",
        "Python's dynamic typing system allows for flexibility in handling different argument types, making traditional overloading less necessary. The techniques mentioned above provide alternative ways to achieve similar functionality.\n",
        "\n",
        "#12.What is method overriding in OOP?\n",
        "-  Method overriding is a concept in Object-Oriented Programming (OOP) that allows a subclass to provide a specific implementation of a method that is already defined in its superclass.\n",
        "\n",
        "#How it Works\n",
        "\n",
        "- You have a parent class (also called a base class or superclass) with a method.\n",
        "- You create a child class (also called a subclass or derived class) that inherits from the parent class.\n",
        "- In the child class, you redefine the method that you inherited from the parent class. This is called \"overriding\" the method.\n",
        "- When you call the method on an object of the child class, the child class's version of the method is executed instead of the parent class's version.\n",
        "\n",
        "#Benefits of Method Overriding\n",
        "\n",
        "- Polymorphism: Allows objects of different classes to respond to the same method call in their own specific way. This enhances - flexibility and code reusability.\n",
        "- Customization: Subclasses can tailor the behavior of inherited methods to meet their specific needs.\n",
        "- Extensibility: You can easily extend the functionality of existing classes without modifying their original code.\n",
        "\n",
        "#13. What is a property decorator in Python?\n",
        "- In Python, the property decorator is a built-in function that provides a way to define properties in a class. Properties are special attributes that allow you to control how the attribute is accessed and modified.\n",
        "\n",
        "#Purpose\n",
        "\n",
        "- Getter and Setter Methods: Properties are typically used to define getter and setter methods for attributes. This allows you to perform actions or validations when an attribute is accessed or modified.\n",
        "- Encapsulation: Properties help to encapsulate the internal representation of an object by providing a controlled interface for accessing and modifying its attributes.\n",
        "\n",
        "#How it Works\n",
        "\n",
        "The property decorator is applied to a method in a class. The decorated method acts as the getter method for the property. You can also define setter and deleter methods for the property using the setter and deleter decorators, respectively.\n",
        "\n",
        "#Benefits of Using Properties\n",
        "\n",
        "- Encapsulation: Encapsulates the internal representation of an object's attributes.\n",
        "- Validation: Allows you to perform validations when an attribute is modified.\n",
        "- Computed Properties: Enables you to define computed attributes that are dynamically calculated based on other attributes.\n",
        "- Read-Only Properties: Can create read-only properties by defining only a getter method.\n",
        "\n",
        "#14. Why is polymorphism important in OOP?\n",
        "- Polymorphism, meaning \"many forms,\" is a fundamental concept in Object-Oriented Programming (OOP) that allows you to write code that can work with objects of different classes without needing to know their specific types beforehand.\n",
        "\n",
        "- Here's why it's so important:\n",
        "\n",
        "- Flexibility and Reusability:\n",
        "\n",
        " - Polymorphism enables you to write more flexible and reusable code. You can design methods and functions that operate on objects of various classes without having to write separate code for each specific type.\n",
        "\n",
        " - For instance, consider a function that calculates the area of a shape. With polymorphism, you can create a single calculate_area function that accepts any object representing a shape (e.g., circle, rectangle, triangle) and correctly calculates the area based on the object's type. This eliminates the need for separate area calculation functions for each shape type.\n",
        "\n",
        "- Extensibility and Maintainability:\n",
        "\n",
        " - Polymorphism makes your code more extensible and maintainable. When you need to add new classes or modify existing ones, you don't have to change a lot of existing code.\n",
        "\n",
        " - Imagine you want to add support for a new shape, such as a pentagon, to your area calculation example. With polymorphism, you simply create a new Pentagon class that inherits from a common Shape class and implements its own calculate_area method. The existing calculate_area function will seamlessly work with the new Pentagon object without any modifications.\n",
        "\n",
        "- Reduced Coupling:\n",
        "\n",
        " - Polymorphism helps to reduce coupling between different parts of your code. This means that changes in one part of the code are less likely to affect other parts.\n",
        "\n",
        " - By using interfaces or abstract classes to define common behaviors, you can decouple the code that uses those behaviors from the specific implementations in different classes. This makes your code more modular and easier to maintain over time.\n",
        "\n",
        "- Improved Code Readability:\n",
        "\n",
        " - Polymorphism can also improve code readability by making it more concise and expressive. You can write code that focuses on the high-level intent rather than the specific details of each object type.\n",
        "\n",
        " - For example, instead of writing conditional statements to check the type of an object before calling a method, you can simply call the method directly, and polymorphism will ensure that the correct version is executed based on the object's type. This makes the code cleaner and easier to understand.\n",
        "\n",
        " #15. What is an abstract class in Python?\n",
        " -  In Python, an abstract class is a class that cannot be instantiated on its own. It is meant to be subclassed by other classes, which then provide concrete implementations of the abstract methods defined in the abstract class.\n",
        "\n",
        "#Purpose\n",
        "\n",
        "- Define Common Interface: Abstract classes are used to define a common interface for a group of related classes. They specify the methods that must be implemented by the subclasses, ensuring consistency and compatibility.\n",
        "- Prevent Direct Instantiation: By preventing direct instantiation, abstract classes enforce the requirement that subclasses provide concrete implementations of the abstract methods.\n",
        "- Promote Code Reusability: Abstract classes allow you to define common functionality in one place, which can then be inherited and reused by multiple subclasses.\n",
        "\n",
        "#Benefits of Using Abstract Classes\n",
        "\n",
        "- Enforce Interface: Ensures that subclasses implement the required methods.\n",
        "- Code Organization: Provides a clear structure for defining related classes.\n",
        "-Polymorphism: Allows you to treat objects of different subclasses interchangeably.\n",
        "\n",
        "#16.What are the advantages of OOP?\n",
        "- Okay, let's discuss the advantages of Object-Oriented Programming (OOP).\n",
        "\n",
        "OOP is a programming paradigm that organizes code around objects, which are instances of classes. It offers several advantages over other programming paradigms, such as procedural programming. Here are some of the key advantages of OOP:\n",
        "\n",
        "- Modularity and Reusability:\n",
        "\n",
        " - OOP promotes modularity by encapsulating data and methods within objects. This allows you to break down complex programs into smaller, more manageable components, making them easier to understand, maintain, and debug.\n",
        " - Objects can be reused in different parts of a program or even in different projects, reducing code duplication and development time.\n",
        "\n",
        "- Data Encapsulation and Security:\n",
        "\n",
        " - OOP provides data encapsulation, which means that the internal data of an object is hidden from the outside world. This protects data integrity by preventing accidental or unauthorized modification.\n",
        " - Access to data is controlled through well-defined interfaces (methods), ensuring that data is accessed and modified in a controlled and predictable manner.\n",
        "\n",
        "- Flexibility and Extensibility:\n",
        "\n",
        " - OOP allows for flexibility by enabling you to easily modify or extend existing code without affecting other parts of the program. You can add new features or change the behavior of existing objects without having to rewrite large portions of code.\n",
        " - Inheritance and polymorphism further enhance flexibility by allowing you to create new classes based on existing ones and treat objects of different classes interchangeably.\n",
        "\n",
        "- Improved Code Organization and Readability:\n",
        "\n",
        " - OOP promotes code organization by grouping related data and methods into classes. This makes it easier to understand the structure and functionality of a program.\n",
        " - Code readability is improved by using meaningful class and method names, making it easier for developers to collaborate and maintain code.\n",
        "\n",
        "- Real-World Modeling:\n",
        "\n",
        " - OOP allows you to model real-world entities and their interactions in a more natural and intuitive way. Objects in a program can represent real-world objects, such as customers, products, or employees, making it easier to understand and reason about the program's behavior.\n",
        " - Increased Productivity and Reduced\n",
        "\n",
        "- Development Time:\n",
        "\n",
        " - By promoting code reuse, modularity, and flexibility, OOP can significantly increase developer productivity and reduce development time. This leads to faster time-to-market for software products and lower development costs.\n",
        "\n",
        "#17. What is the difference between a class variable and an instance variable?\n",
        "-  Both class variables and instance variables are used to store data in a class, but they differ in their scope and how they are accessed.\n",
        "\n",
        "#Class Variables\n",
        "\n",
        "- Definition: Class variables are declared within the class but outside of any methods. They are shared by all instances (objects) of the class.\n",
        "- Scope: Class variables have class-level scope, meaning they are accessible to all instances of the class as well as the class itself.\n",
        "- Access: Class variables can be accessed using the class name or any instance of the class.\n",
        "- Modification: Modifying a class variable through the class name affects all instances of the class. Modifying it through an instance creates a new instance variable with the same name, leaving the class variable unchanged.\n",
        "\n",
        "#Instance Variables\n",
        "\n",
        "- Definition: Instance variables are declared inside the constructor (__init__ method) or other methods of the class. They are specific to each instance (object) of the class.\n",
        "- Scope: Instance variables have instance-level scope, meaning they are only accessible within the instance they belong to.\n",
        "- Access: Instance variables are accessed using the self keyword within the instance methods.\n",
        "- Modification: Modifying an instance variable only affects the instance it belongs to and does not impact other instances or the class variable.\n",
        "\n",
        "#18.  What is multiple inheritance in Python?\n",
        "- Multiple inheritance is a feature in object-oriented programming where a class can inherit from multiple parent classes. This means that the child class inherits attributes and methods from all of its parent classes.\n",
        "\n",
        "How it Works\n",
        "\n",
        "In Python, you can specify multiple parent classes in the class definition by separating them with commas. The child class then inherits attributes and methods from all of the listed parent classes.\n",
        "\n",
        "#Method Resolution Order (MRO)\n",
        "\n",
        "When a class inherits from multiple parent classes, Python uses a specific order to resolve method calls. This order is called the Method Resolution Order (MRO), and it determines which method is called when a method with the same name is defined in multiple parent classes.\n",
        "\n",
        "Python uses the C3 linearization algorithm to determine the MRO. You can access the MRO of a class using the __mro__ attribute or the mro() method.\n",
        "\n",
        "#Example\n",
        "\n"
      ],
      "metadata": {
        "id": "3x38Q1hlESIh"
      }
    },
    {
      "cell_type": "code",
      "source": [
        "print(Dog.__mro__)\n",
        "# Output: (<class '__main__.Dog'>, <class '__main__.Animal'>, <class '__main__.Mammal'>, <class 'object'>)"
      ],
      "metadata": {
        "colab": {
          "base_uri": "https://localhost:8080/"
        },
        "id": "6FjNhONXNpE5",
        "outputId": "d53d34ad-e7a9-4705-9bfe-91a3d0824535"
      },
      "execution_count": 2,
      "outputs": [
        {
          "output_type": "stream",
          "name": "stdout",
          "text": [
            "(<class '__main__.Dog'>, <class '__main__.Animal'>, <class 'object'>)\n"
          ]
        }
      ]
    },
    {
      "cell_type": "markdown",
      "source": [
        "This output shows the MRO for the Dog class. It indicates that Python will first look for a method in the Dog class, then in Animal, then in Mammal, and finally in the base object class.\n",
        "\n",
        "#Potential Issues\n",
        "\n",
        "Multiple inheritance can be powerful, but it can also lead to some potential issues, such as:\n",
        "\n",
        "- The Diamond Problem: This occurs when a class inherits from two classes that have a common ancestor, and a method is defined in both parent classes and the common ancestor. This can lead to ambiguity in which method is called. Python's MRO helps to resolve this issue by prioritizing the order in which parent classes are searched.\n",
        "- Increased Complexity: Multiple inheritance can make code more complex and harder to understand, especially when dealing with deep inheritance hierarchies.\n",
        "\n",
        "#Best Practices\n",
        "\n",
        "- Use multiple inheritance sparingly and only when it's truly necessary.\n",
        "- Carefully consider the MRO to avoid unexpected behavior.\n",
        "- Keep inheritance hierarchies shallow to reduce complexity.\n",
        "- Favor composition over inheritance when possible, as it can often lead to more flexible and maintainable code\n",
        "\n",
        "#19. Explain the purpose of ‘’__str__’ and ‘__repr__’ ‘ methods in Python?\n",
        "- Both __str__ and __repr__ are special methods (also called \"dunder\" methods) in Python that are used to represent objects as strings. They are called by the built-in str() and repr() functions, respectively. However, they serve slightly different purposes:\n",
        "\n",
        "__str__\n",
        "\n",
        "- Purpose: The __str__ method is intended to provide a user-friendly, informal string representation of an object. It should be easily readable and understandable for end-users.\n",
        "- Usage: It's primarily used for displaying objects to users in a human-readable format, such as when printing an object or converting it to a string using str().\n",
        "\n",
        "#Example:"
      ],
      "metadata": {
        "id": "zNGyavxONrd9"
      }
    },
    {
      "cell_type": "code",
      "source": [
        "class Person:\n",
        "        def __init__(self, name, age):\n",
        "            self.name = name\n",
        "            self.age = age\n",
        "\n",
        "        def __str__(self):\n",
        "            return f\"Person(name='{self.name}', age={self.age})\"\n",
        "\n",
        "person = Person(\"raja\", 30)\n",
        "print(person)  # Output: Person(name='Alice', age=30)"
      ],
      "metadata": {
        "colab": {
          "base_uri": "https://localhost:8080/"
        },
        "id": "WXTo2hptOiV0",
        "outputId": "e8bb0017-a21d-49a8-fa2c-ca4c59b20b3f"
      },
      "execution_count": 11,
      "outputs": [
        {
          "output_type": "stream",
          "name": "stdout",
          "text": [
            "Person(name='raja', age=30)\n"
          ]
        }
      ]
    },
    {
      "cell_type": "markdown",
      "source": [
        "__repr__\n",
        "\n",
        "- Purpose: The __repr__ method is intended to provide a more detailed, unambiguous string representation of an object. It should be primarily used for debugging and development purposes.\n",
        "- Usage: It's typically used by developers to inspect the internal state of an object and understand how it's constructed. It's also used by the interactive interpreter when displaying objects.\n",
        "\n",
        "#Example:"
      ],
      "metadata": {
        "id": "YN5Mkcw1OuYO"
      }
    },
    {
      "cell_type": "code",
      "source": [
        "class Person:\n",
        "        def __init__(self, name, age):\n",
        "            self.name = name\n",
        "            self.age = age\n",
        "\n",
        "        def __repr__(self):\n",
        "            return f\"Person(name='{self.name}', age={self.age})\"\n",
        "\n",
        "person = Person(\"raja\", 30)\n",
        "print(repr(person))  # Output: Person(name='Alice', age=30)"
      ],
      "metadata": {
        "colab": {
          "base_uri": "https://localhost:8080/"
        },
        "id": "sOPeT2CKO0O_",
        "outputId": "b3fd2f88-f0ac-4716-910b-a5bd3c72debe"
      },
      "execution_count": 10,
      "outputs": [
        {
          "output_type": "stream",
          "name": "stdout",
          "text": [
            "Person(name='raja', age=30)\n"
          ]
        }
      ]
    },
    {
      "cell_type": "markdown",
      "source": [
        "#Guidelines\n",
        "\n",
        "- If you define only one of these methods, it's recommended to define __repr__. The str() function will fall back to using __repr__ if __str__ is not defined.\n",
        "- The output of __repr__ should ideally be a valid Python expression that can be used to recreate the object.\n",
        "- The output of __str__ should be concise and informative for users.\n",
        "\n",
        "#20. What is the significance of the ‘super()’ function in Python?\n",
        "- The super() function is used to call a method from a parent class. It's especially useful in the context of inheritance when you want to extend the functionality of a parent class's method in a child class.\n",
        "\n",
        "#Significance\n",
        "\n",
        "- Avoiding Redundancy: Instead of explicitly naming the parent class, super() allows you to refer to it dynamically. This avoids code duplication and makes it easier to maintain code if the parent class's name changes.\n",
        "- Method Overriding: When you override a method in a child class, you might still want to call the original implementation from the parent class. super() makes this seamless.\n",
        "- Multiple Inheritance: In cases of multiple inheritance, super() helps to navigate the method resolution order (MRO) and call the appropriate method from the parent classes.\n",
        "\n",
        "#Benefits\n",
        "\n",
        "- Code Reusability: super() promotes code reuse by allowing you to leverage existing functionality from parent classes.\n",
        "- Maintainability: It makes code easier to maintain by avoiding hardcoded references to parent classes.\n",
        "- Flexibility: super() helps to manage complex inheritance scenarios by ensuring the correct methods are called.\n",
        "\n",
        "#Important Considerations\n",
        "\n",
        "- When using super() within a class method, you need to pass the class itself (cls) as the first argument.\n",
        "- In Python 3, you can usually call super() without arguments within a method, but it's still considered good practice to explicitly provide the class and instance (super(CurrentClass, self)).\n",
        "\n",
        "#21.  What is the significance of the __del__ method in Python?\n",
        "- The __del__ method is a special method (also called a \"dunder\" method or a \"magic method\") in Python classes. It's also known as the destructor. This method is called when an object is about to be destroyed or garbage collected.\n",
        "\n",
        "Here's a breakdown of its significance:\n",
        "\n",
        "#Purpose:\n",
        "\n",
        " - Resource Release: The primary purpose of the __del__ method is to perform cleanup actions before an object is destroyed. This is crucial for releasing external resources like files, network connections, or database handles that the object might be holding. It ensures that these resources are properly closed or released to prevent leaks or errors.\n",
        "\n",
        " - Object Finalization: The __del__ method can be used to perform any finalization tasks or actions that need to happen before the object is removed from memory. This could involve logging information, saving object state, or notifying other parts of the system about the object's destruction.\n",
        "\n",
        "#Significance:\n",
        "\n",
        " - Preventing Resource Leaks: It helps in preventing potential resource leaks by ensuring that resources are released when they are no longer needed.\n",
        " - Cleanup and Finalization: It provides a mechanism to perform necessary cleanup and finalization tasks associated with an object's lifecycle.\n",
        "\n",
        "#Important Considerations:\n",
        "\n",
        "- Non-Deterministic Timing: The exact timing of when the __del__ method is called is not guaranteed and is dependent on the garbage collector. You should not rely on it for critical operations or time-sensitive tasks.\n",
        "- Potential Errors: If the __del__ method raises an exception, it might be ignored, and the cleanup might not be completed successfully.\n",
        "- Circular References: If objects have circular references (referring to each other), their __del__ methods might not be called, leading to potential memory leaks. Python's garbage collector has mechanisms to handle circular references, but it's important to be aware of this scenario.\n",
        "\n",
        "#22. What is the difference between @staticmethod and @classmethod in Python?\n",
        "- Okay, let's discuss the difference between @staticmethod and @classmethod in Python.\n",
        "\n",
        "Both @staticmethod and @classmethod are decorators used to define methods that are bound to a class rather than an instance of the class. However, they differ in how they are called and what arguments they receive.\n",
        "\n",
        "#@staticmethod\n",
        "\n",
        "- Definition: A static method is a method that is bound to the class and not the instance of the class (object). It does not receive an implicit first argument (like self or cls).\n",
        "- Usage: Static methods are typically used for utility functions that don't need access to class or instance data. They are often used to group related functions within a class for organizational purposes.\n",
        "- Calling: Static methods can be called using the class name or an instance of the class.\n",
        "\n",
        "#@classmethod\n",
        "\n",
        "- Definition: A class method is a method that is bound to the class and not the instance of the class (object). It receives the class itself (cls) as the implicit first argument.\n",
        "- Usage: Class methods are often used for factory methods, which are methods that create and return new instances of the class. They can also be used to access or modify class-level variables.\n",
        "- Calling: Class methods can be called using the class name or an instance of the class.\n",
        "\n",
        "#23. How does polymorphism work in Python with inheritance?\n",
        "- Polymorphism, meaning \"many forms,\" is a fundamental concept in Object-Oriented Programming (OOP) that allows you to write code that can work with objects of different classes without needing to know their specific types beforehand.\n",
        "\n",
        "In Python, polymorphism is primarily achieved through method overriding in inheritance. Here's how it works:\n",
        "\n",
        " - Inheritance: You have a parent class (also called a base class or superclass) with a method.\n",
        " - Method Overriding: You create a child class (also called a subclass or derived class) that inherits from the parent class. In the child class, you redefine the method that you inherited from the parent class, providing a specific implementation for that child class. This is called \"overriding\" the method.\n",
        " - Polymorphic Behavior: When you call the method on an object of either the parent or child class, the correct version of the method is executed based on the object's type. This is polymorphism in action – the same method call results in different behaviors depending on the object it's called on.\n",
        "\n",
        "#Benefits of Polymorphism with Inheritance\n",
        "\n",
        "- Flexibility: Write code that can work with objects of different classes without modification.\n",
        "- Code Reusability: Reduce code duplication by using common interfaces and methods.\n",
        "- Extensibility: Easily add new classes and integrate them into existing code without breaking existing functionality.\n",
        "- Maintainability: Make code easier to understand and maintain by reducing complexity.\n",
        "\n",
        "#24. What is method chaining in Python OOP?\n",
        "- Method chaining is a programming technique where you call multiple methods on an object sequentially in a single line of code. This is achieved by having each method return the object itself (self) after performing its operation.\n",
        "\n",
        "#How it Works\n",
        "\n",
        "Method Returns self: Each method in the chain, except possibly the last one, returns the object it was called on (self).\n",
        "Sequential Calls: This allows you to immediately call another method on the returned object, creating a chain of method calls.\n",
        "\n",
        "#Example"
      ],
      "metadata": {
        "id": "6yojTed5PHgm"
      }
    },
    {
      "cell_type": "code",
      "source": [
        "class Person:\n",
        "    def __init__(self, name):\n",
        "        self.name = name\n",
        "\n",
        "    def set_age(self, age):\n",
        "        self.age = age\n",
        "        return self  # Return self for chaining\n",
        "\n",
        "    def set_address(self, address):\n",
        "        self.address = address\n",
        "        return self  # Return self for chaining\n",
        "\n",
        "# Method chaining\n",
        "person = Person(\"Alice\").set_age(30).set_address(\"123 Main St\")"
      ],
      "metadata": {
        "id": "-nTdb7XYR-Wn"
      },
      "execution_count": 14,
      "outputs": []
    },
    {
      "cell_type": "markdown",
      "source": [
        "In this example:\n",
        "\n",
        " -The set_age() and set_address() methods both return self, enabling chaining.\n",
        "- We create a Person object and chain the set_age() and set_address() calls in a single line, making the code more concise and readable.\n",
        "\n",
        "#Benefits of Method Chaining\n",
        "\n",
        "- Concise and Readable Code: Reduces the amount of code needed to perform multiple operations on an object, making it more compact and easier to read.\n",
        "- Fluent Interface: Creates a more natural and expressive way to interact with objects, improving code flow.\n",
        "- Improved Code Organization: Can help to organize code by grouping related operations together.\n",
        "\n",
        "#When to Use Method Chaining\n",
        "\n",
        "Method chaining is particularly useful when you need to perform a series of operations on an object in a specific order. It's often used in scenarios like:\n",
        "\n",
        "- Building Objects: Creating and configuring objects with multiple properties.\n",
        "Applying Transformations: Performing a sequence of transformations on data or objects.\n",
        "- Fluent APIs: Designing APIs that allow for expressive and chained method calls.\n",
        "\n",
        "#25. What is the purpose of the __call__ method in Python?\n",
        "- In Python, the __call__ method is a special method (also called a \"dunder\" method or a \"magic method\") that allows you to make an object callable like a function. When you define the __call__ method in a class, you can then use instances of that class as if they were functions, invoking them using parentheses ().\n",
        "\n",
        "#Purpose\n",
        "\n",
        "The primary purpose of the __call__ method is to enable objects to behave like functions, allowing you to execute code when the object is called. This can be useful in various scenarios, such as:\n",
        "\n",
        "- Creating Callable Objects: You can define objects that encapsulate logic and can be executed like functions.\n",
        "- Implementing Function-like Behavior: You can give objects function-like capabilities, allowing them to be invoked with arguments and return values.\n",
        "- Defining Custom Actions: You can use the __call__ method to define specific actions or behaviors that should be performed when the object is called.\n",
        "\n",
        "#Benefits of Using __call__\n",
        "\n",
        "- Object Functionality: It allows objects to be used as functions, providing more flexibility and expressiveness in your code.\n",
        "- Encapsulation: It encapsulates logic within the object, making it self-contained and reusable.\n",
        "- Readability: It can improve code readability by representing actions or behaviors as callable objects"
      ],
      "metadata": {
        "id": "tb0aRvdDSGgc"
      }
    },
    {
      "cell_type": "markdown",
      "source": [
        "#PRACTICAL QUESTIONS\n"
      ],
      "metadata": {
        "id": "3tDtjn-nS9Zi"
      }
    },
    {
      "cell_type": "markdown",
      "source": [
        "#1. Create a parent class Animal with a method speak() that prints a generic message. Create a child class Dogthat overrides the speak() method to print \"Bark!\"."
      ],
      "metadata": {
        "id": "2IqpmjL1TEc2"
      }
    },
    {
      "cell_type": "code",
      "source": [
        "class Animal:\n",
        "    def speak(self):\n",
        "        print(\"Generic animal sound\")\n",
        "\n",
        "class Dog(Animal):\n",
        "    def speak(self):\n",
        "        print(\"Bark!\")\n",
        "\n",
        "# Create instances of the classes\n",
        "animal = Animal()\n",
        "dog = Dog()\n",
        "\n",
        "# Call the speak method on each instance\n",
        "animal.speak()  # Output: Generic animal sound\n",
        "dog.speak()  # Output: Bark!"
      ],
      "metadata": {
        "colab": {
          "base_uri": "https://localhost:8080/"
        },
        "id": "GX1k7I_3TONw",
        "outputId": "e4088482-8df2-46af-9ff7-6054f46fbdd5"
      },
      "execution_count": 15,
      "outputs": [
        {
          "output_type": "stream",
          "name": "stdout",
          "text": [
            "Generic animal sound\n",
            "Bark!\n"
          ]
        }
      ]
    },
    {
      "cell_type": "markdown",
      "source": [
        "#2. Write a program to create an abstract class Shape with a method area(). Derive classes Circle and Rectanglefrom it and implement the area() method in both."
      ],
      "metadata": {
        "id": "Qlqv4BMETYA4"
      }
    },
    {
      "cell_type": "code",
      "source": [
        "from abc import ABC, abstractmethod\n",
        "import math\n",
        "\n",
        "class Shape(ABC):  # Abstract class\n",
        "    @abstractmethod\n",
        "    def area(self):\n",
        "        pass\n",
        "\n",
        "class Circle(Shape):\n",
        "    def __init__(self, radius):\n",
        "        self.radius = radius\n",
        "\n",
        "    def area(self):\n",
        "        return math.pi * self.radius**2\n",
        "\n",
        "class Rectangle(Shape):\n",
        "    def __init__(self, length, width):\n",
        "        self.length = length\n",
        "        self.width = width\n",
        "\n",
        "    def area(self):\n",
        "        return self.length * self.width\n",
        "\n",
        "# Create instances of the classes\n",
        "circle = Circle(5)\n",
        "rectangle = Rectangle(4, 6)\n",
        "\n",
        "# Call the area method on each instance\n",
        "print(f\"Area of circle: {circle.area()}\")  # Output: Area of circle: 78.53981633974483\n",
        "print(f\"Area of rectangle: {rectangle.area()}\")  # Output: Area of rectangle: 24"
      ],
      "metadata": {
        "id": "H5svDDIWTiHO"
      },
      "execution_count": null,
      "outputs": []
    },
    {
      "cell_type": "markdown",
      "source": [
        "#3. Implement a multi-level inheritance scenario where a class Vehicle has an attribute type. Derive a class Carand further derive a class ElectricCar that adds a battery attribute."
      ],
      "metadata": {
        "id": "V88R9R4tTlSj"
      }
    },
    {
      "cell_type": "code",
      "source": [
        "class Vehicle:\n",
        "    def __init__(self, type):\n",
        "        self.type = type\n",
        "\n",
        "class Car(Vehicle):\n",
        "    def __init__(self, type, model):\n",
        "        super().__init__(type)  # Initialize the Vehicle attributes\n",
        "        self.model = model\n",
        "\n",
        "class ElectricCar(Car):\n",
        "    def __init__(self, type, model, battery):\n",
        "        super().__init__(type, model)  # Initialize the Car attributes\n",
        "        self.battery = battery\n",
        "\n",
        "# Create instances of the classes\n",
        "vehicle = Vehicle(\"Generic Vehicle\")\n",
        "car = Car(\"Sedan\", \"Toyota Camry\")\n",
        "electric_car = ElectricCar(\"Electric\", \"Tesla Model S\", \"Lithium-ion\")\n",
        "\n",
        "# Access the attributes\n",
        "print(f\"Vehicle type: {vehicle.type}\")  # Output: Vehicle type: Generic Vehicle\n",
        "print(f\"Car type: {car.type}, model: {car.model}\")  # Output: Car type: Sedan, model: Toyota Camry\n",
        "print(f\"Electric car type: {electric_car.type}, model: {electric_car.model}, battery: {electric_car.battery}\")  # Output: Electric car type: Electric, model: Tesla Model S, battery: Lithium-ion"
      ],
      "metadata": {
        "id": "5HRVtyrRTvWS"
      },
      "execution_count": null,
      "outputs": []
    },
    {
      "cell_type": "markdown",
      "source": [
        "#4. Demonstrate polymorphism by creating a base class Bird with a method fly(). Create two derived classesSparrow and Penguin that override the fly() method."
      ],
      "metadata": {
        "id": "ehMVdjCsTxRK"
      }
    },
    {
      "cell_type": "code",
      "source": [
        "class Bird:\n",
        "    def fly(self):\n",
        "        print(\"Generic bird flying\")\n",
        "\n",
        "class Sparrow(Bird):\n",
        "    def fly(self):\n",
        "        print(\"Sparrow flying\")\n",
        "\n",
        "class Penguin(Bird):\n",
        "    def fly(self):\n",
        "        print(\"Penguins can't fly, they waddle\")\n",
        "\n",
        "# Create instances of the classes\n",
        "bird = Bird()\n",
        "sparrow = Sparrow()\n",
        "penguin = Penguin()\n",
        "\n",
        "# Call the fly method on each instance\n",
        "bird.fly()  # Output: Generic bird flying\n",
        "sparrow.fly()  # Output: Sparrow flying\n",
        "penguin.fly()  # Output: Penguins can't fly, they waddle"
      ],
      "metadata": {
        "colab": {
          "base_uri": "https://localhost:8080/"
        },
        "id": "sWsmhxciT6dj",
        "outputId": "39466525-b528-4272-8cd6-0a686bc3045a"
      },
      "execution_count": 16,
      "outputs": [
        {
          "output_type": "stream",
          "name": "stdout",
          "text": [
            "Generic bird flying\n",
            "Sparrow flying\n",
            "Penguins can't fly, they waddle\n"
          ]
        }
      ]
    },
    {
      "cell_type": "markdown",
      "source": [
        "#5. Write a program to demonstrate encapsulation by creating a class BankAccount with private attributesbalance and methods to deposit, withdraw, and check balance."
      ],
      "metadata": {
        "id": "YVgXFiTiUAz6"
      }
    },
    {
      "cell_type": "code",
      "source": [
        "class BankAccount:\n",
        "    def __init__(self, initial_balance=0):\n",
        "        self.__balance = initial_balance  # Private attribute\n",
        "\n",
        "    def deposit(self, amount):\n",
        "        if amount > 0:\n",
        "            self.__balance += amount\n",
        "            print(f\"Deposited: ${amount}. New balance: ${self.__balance}\")\n",
        "        else:\n",
        "            print(\"Invalid deposit amount.\")\n",
        "\n",
        "    def withdraw(self, amount):\n",
        "        if 0 < amount <= self.__balance:\n",
        "            self.__balance -= amount\n",
        "            print(f\"Withdrew: ${amount}. New balance: ${self.__balance}\")\n",
        "        else:\n",
        "            print(\"Insufficient funds or invalid withdrawal amount.\")\n",
        "\n",
        "    def check_balance(self):\n",
        "        print(f\"Current balance: ${self.__balance}\")\n",
        "\n",
        "# Create a BankAccount object\n",
        "account = BankAccount(1000)"
      ],
      "metadata": {
        "id": "EEj1ZTUbUJU0"
      },
      "execution_count": 17,
      "outputs": []
    },
    {
      "cell_type": "markdown",
      "source": [
        "#6. Demonstrate runtime polymorphism using a method play() in a base class Instrument. Derive classes Guitarand Piano that implement their own version of play()."
      ],
      "metadata": {
        "id": "595NI9t5UNKO"
      }
    },
    {
      "cell_type": "code",
      "source": [
        "class Instrument:\n",
        "    def play(self):\n",
        "        print(\"Generic instrument playing\")\n",
        "\n",
        "class Guitar(Instrument):\n",
        "    def play(self):\n",
        "        print(\"Guitar strumming\")\n",
        "\n",
        "class Piano(Instrument):\n",
        "    def play(self):\n",
        "        print(\"Piano keys playing\")\n",
        "\n",
        "# Create instances of the classes\n",
        "instrument = Instrument()\n",
        "guitar = Guitar()\n",
        "piano = Piano()\n",
        "\n",
        "# Call the play method on each instance\n",
        "instrument.play()  # Output: Generic instrument playing\n",
        "guitar.play()  # Output: Guitar strumming\n",
        "piano.play()  # Output: Piano keys playing\n",
        "\n",
        "# Demonstrate runtime polymorphism\n",
        "for inst in [instrument, guitar, piano]:\n",
        "    inst.play()"
      ],
      "metadata": {
        "id": "5sb_TacNUeKN"
      },
      "execution_count": null,
      "outputs": []
    },
    {
      "cell_type": "markdown",
      "source": [
        "#7. Create a class MathOperations with a class method add_numbers() to add two numbers and a staticmethod subtract_numbers() to subtract two numbers."
      ],
      "metadata": {
        "id": "nW3dFRzwUhvv"
      }
    },
    {
      "cell_type": "code",
      "source": [
        "class MathOperations:\n",
        "    @classmethod\n",
        "    def add_numbers(cls, num1, num2):\n",
        "        \"\"\"Adds two numbers together.\"\"\"\n",
        "        return num1 + num2\n",
        "\n",
        "    @staticmethod\n",
        "    def subtract_numbers(num1, num2):\n",
        "        \"\"\"Subtracts two numbers.\"\"\"\n",
        "        return num1 - num2\n",
        "\n",
        "# Example usage\n",
        "result_add = MathOperations.add_numbers(5, 3)  # Using class method\n",
        "result_subtract = MathOperations.subtract_numbers(5, 3)  # Using static method\n",
        "\n",
        "#To see the output, run the code."
      ],
      "metadata": {
        "id": "GiPF21jIUqHi"
      },
      "execution_count": null,
      "outputs": []
    },
    {
      "cell_type": "markdown",
      "source": [
        "#8. Implement a class Person with a class method to count the total number of persons created."
      ],
      "metadata": {
        "id": "Ru7Om4RwUrux"
      }
    },
    {
      "cell_type": "code",
      "source": [
        "class Person:\n",
        "    count = 0  # Class variable to store the count\n",
        "\n",
        "    def __init__(self, name):\n",
        "        self.name = name\n",
        "        Person.count += 1  # Increment count when a new Person is created\n",
        "\n",
        "    @classmethod\n",
        "    def get_total_persons(cls):\n",
        "        \"\"\"Returns the total number of Person objects created.\"\"\"\n",
        "        return cls.count\n",
        "\n",
        "# Example usage\n",
        "person1 = Person(\"Alice\")\n",
        "person2 = Person(\"Bob\")\n",
        "\n",
        "total_persons = Person.get_total_persons()\n",
        "# To see the output, run the code."
      ],
      "metadata": {
        "id": "UpSyu-gSU4k0"
      },
      "execution_count": 20,
      "outputs": []
    },
    {
      "cell_type": "markdown",
      "source": [
        "#9. Write a class Fraction with attributes numerator and denominator. Override the str method to display thefraction as \"numerator/denominator\"."
      ],
      "metadata": {
        "id": "9dRygUvJVPWc"
      }
    },
    {
      "cell_type": "code",
      "source": [
        "class Fraction:\n",
        "    def __init__(self, numerator, denominator):\n",
        "        self.numerator = numerator\n",
        "        self.denominator = denominator\n",
        "\n",
        "    def __str__(self):\n",
        "        return f\"{self.numerator}/{self.denominator}\"\n",
        "\n",
        "# Example usage\n",
        "fraction = Fraction(3, 4)\n",
        "print(fraction)  # Output: 3/4"
      ],
      "metadata": {
        "colab": {
          "base_uri": "https://localhost:8080/"
        },
        "id": "ZkbV90ikVZJg",
        "outputId": "f77249a3-8fd6-4058-a612-dd3c4e933f0d"
      },
      "execution_count": 21,
      "outputs": [
        {
          "output_type": "stream",
          "name": "stdout",
          "text": [
            "3/4\n"
          ]
        }
      ]
    },
    {
      "cell_type": "markdown",
      "source": [
        "#10. Demonstrate operator overloading by creating a class Vector and overriding the add method to add two vectors."
      ],
      "metadata": {
        "id": "CH-ze24KVbPi"
      }
    },
    {
      "cell_type": "code",
      "source": [
        "class Vector:\n",
        "    def __init__(self, x, y):\n",
        "        self.x = x\n",
        "        self.y = y\n",
        "\n",
        "    def __add__(self, other):\n",
        "        \"\"\"Overloads the + operator to add two vectors.\"\"\"\n",
        "        return Vector(self.x + other.x, self.y + other.y)\n",
        "\n",
        "    def __str__(self):\n",
        "        \"\"\"Returns a string representation of the vector.\"\"\"\n",
        "        return f\"({self.x}, {self.y})\"\n",
        "\n",
        "# Example usage\n",
        "v1 = Vector(2, 3)\n",
        "v2 = Vector(4, 5)\n",
        "\n",
        "v3 = v1 + v2  # Vector addition using the overloaded + operator\n",
        "\n",
        "print(v3)  # Output: (6, 8)"
      ],
      "metadata": {
        "id": "W7ulmVZmVmaS"
      },
      "execution_count": null,
      "outputs": []
    },
    {
      "cell_type": "markdown",
      "source": [
        "#11. Create a class Person with attributes name and age. Add a method greet() that prints \"Hello, my name is {name} and I am {age} years old."
      ],
      "metadata": {
        "id": "BagZYMmAVoAx"
      }
    },
    {
      "cell_type": "code",
      "source": [
        "class Person:\n",
        "    def __init__(self, name, age):\n",
        "        self.name = name\n",
        "        self.age = age\n",
        "\n",
        "    def greet(self):\n",
        "        print(f\"Hello, my name is {self.name} and I am {self.age} years old.\")\n",
        "\n",
        "# Example usage\n",
        "person = Person(\"RAJA\", 30)\n",
        "person.greet()  # Output: Hello, my name is Alice and I am 30 years old."
      ],
      "metadata": {
        "colab": {
          "base_uri": "https://localhost:8080/"
        },
        "id": "KgAwkfD7V1IP",
        "outputId": "4c8d7902-b8b4-4bb3-e9be-c97b869fafed"
      },
      "execution_count": 22,
      "outputs": [
        {
          "output_type": "stream",
          "name": "stdout",
          "text": [
            "Hello, my name is RAJA and I am 30 years old.\n"
          ]
        }
      ]
    },
    {
      "cell_type": "markdown",
      "source": [
        "#12. Implement a class Student with attributes name and grades. Create a method average_grade() to compute the average of the grades."
      ],
      "metadata": {
        "id": "QF-nMBmlV72m"
      }
    },
    {
      "cell_type": "code",
      "source": [
        "class Student:\n",
        "    def __init__(self, name, grades):\n",
        "        self.name = name\n",
        "        self.grades = grades\n",
        "\n",
        "    def average_grade(self):\n",
        "        if not self.grades:  # Check if grades list is empty\n",
        "            return 0  # Return 0 if no grades\n",
        "        return sum(self.grades) / len(self.grades)\n",
        "\n",
        "# Example usage\n",
        "student = Student(\"Bob\", [85, 90, 78, 92])\n",
        "average = student.average_grade()\n",
        "#To see the output, run the code."
      ],
      "metadata": {
        "id": "wfm11HuKWHjr"
      },
      "execution_count": 25,
      "outputs": []
    },
    {
      "cell_type": "markdown",
      "source": [
        "#13. Create a class Rectangle with methods set_dimensions() to set the dimensions and area() to calculate the area."
      ],
      "metadata": {
        "id": "2WKj6TuLWS7H"
      }
    },
    {
      "source": [
        "class Rectangle:\n",
        "    def __init__(self, length=0, width=0):  # Initialize with default values\n",
        "        self.length = length\n",
        "        self.width = width\n",
        "\n",
        "    def set_dimensions(self, length, width):\n",
        "        self.length = length\n",
        "        self.width = width\n",
        "\n",
        "    def area(self):\n",
        "        return self.length * self.width\n",
        "\n",
        "# Example usage\n",
        "rectangle = Rectangle()  # Create a rectangle with default dimensions (0, 0)\n",
        "rectangle.set_dimensions(5, 3)  # Set dimensions to 5 and 3\n",
        "area = rectangle.area()  # Calculate the area\n",
        "#To see the output, run the code."
      ],
      "cell_type": "code",
      "metadata": {
        "id": "-JgQouG8WcqY"
      },
      "execution_count": 28,
      "outputs": []
    },
    {
      "cell_type": "markdown",
      "source": [
        "#14. Create a class Employee with a method calculate_salary() that computes the salary based on hours worked and hourly rate. Create a derived class Manager that adds a bonus to the salary."
      ],
      "metadata": {
        "id": "QR_5anu-WgT8"
      }
    },
    {
      "source": [
        "class Employee:\n",
        "    def __init__(self, name, hours_worked, hourly_rate):\n",
        "        self.name = name\n",
        "        self.hours_worked = hours_worked\n",
        "        self.hourly_rate = hourly_rate\n",
        "\n",
        "    def calculate_salary(self):\n",
        "        return self.hours_worked * self.hourly_rate\n",
        "\n",
        "class Manager(Employee):\n",
        "    def __init__(self, name, hours_worked, hourly_rate, bonus):\n",
        "        super().__init__(name, hours_worked, hourly_rate)\n",
        "        self.bonus = bonus\n",
        "\n",
        "    def calculate_salary(self):\n",
        "        base_salary = super().calculate_salary()\n",
        "        return base_salary + self.bonus\n",
        "\n",
        "# Example usage\n",
        "employee = Employee(\"Alice\", 40, 15)\n",
        "employee_salary = employee.calculate_salary()\n",
        "#To see the output, run the code.\n"
      ],
      "cell_type": "code",
      "metadata": {
        "id": "SE2pH9ZOWpqi"
      },
      "execution_count": 29,
      "outputs": []
    }
  ]
}